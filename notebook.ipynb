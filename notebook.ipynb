{
 "cells": [
  {
   "cell_type": "markdown",
   "metadata": {},
   "source": [
    "# Ants and Bees - Classification to Demonstrate Transfer Learning\n",
    "\n",
    "- This notebook is supposed to be an amateur's first foray into Transfer Learning.\n",
    "- It operates on a dataset that is relatively small - with 120 images for ants and bees. There are 75 validation images for each class as well.\n",
    "- Usually, this is a very small dataset to generalize upon, if trained from scratch. Since we are using transfer learning, we should be able to generalize reasonably well."
   ]
  },
  {
   "cell_type": "markdown",
   "metadata": {},
   "source": [
    "## Downloading the Data"
   ]
  },
  {
   "cell_type": "code",
   "execution_count": 5,
   "metadata": {},
   "outputs": [],
   "source": [
    "from io import BytesIO\n",
    "from typing import Union\n",
    "from zipfile import ZipFile\n",
    "import requests\n",
    "from os import path, rename\n",
    "\n",
    "\n",
    "\"\"\"Downloads a zip file from `url`, extracts it at `dest`, renames the extracted folder to `new_dir_name`.\"\"\"\n",
    "\n",
    "\n",
    "def download_zip_and_extract(url: str, dest: str, new_dir_name: Union[str, None] = None):\n",
    "  file_name = \".\".join(url.split('/')[-1].split('.')[:-1])\n",
    "  dest_path = path.join(path.curdir, dest)\n",
    "\n",
    "  assert path.exists(path.join(dest_path, new_dir_name if new_dir_name else file_name)\n",
    "                     ) == False, \"Destination folder already exists\"\n",
    "\n",
    "  print(\"Downloading started\")\n",
    "  req = requests.get(url)\n",
    "  print(\"Downloading completed. Extraction started\")\n",
    "\n",
    "  zipfile = ZipFile(BytesIO(req.content))\n",
    "  zipfile.extractall(dest_path)\n",
    "\n",
    "  print(\"Extraction completed\")\n",
    "\n",
    "  if new_dir_name:\n",
    "    rename(path.join(dest_path, file_name), new_dir_name)\n"
   ]
  },
  {
   "cell_type": "code",
   "execution_count": 8,
   "metadata": {},
   "outputs": [
    {
     "ename": "AssertionError",
     "evalue": "Destination folder already exists",
     "output_type": "error",
     "traceback": [
      "\u001b[1;31m---------------------------------------------------------------------------\u001b[0m",
      "\u001b[1;31mAssertionError\u001b[0m                            Traceback (most recent call last)",
      "\u001b[1;32m~\\AppData\\Local\\Temp/ipykernel_18456/4035900558.py\u001b[0m in \u001b[0;36m<module>\u001b[1;34m\u001b[0m\n\u001b[0;32m      1\u001b[0m \u001b[0mDATA_URL\u001b[0m \u001b[1;33m=\u001b[0m \u001b[1;34m\"https://download.pytorch.org/tutorial/hymenoptera_data.zip\"\u001b[0m\u001b[1;33m\u001b[0m\u001b[1;33m\u001b[0m\u001b[0m\n\u001b[0;32m      2\u001b[0m \u001b[0mdata_dest\u001b[0m \u001b[1;33m=\u001b[0m \u001b[1;34m\".\"\u001b[0m\u001b[1;33m\u001b[0m\u001b[1;33m\u001b[0m\u001b[0m\n\u001b[1;32m----> 3\u001b[1;33m \u001b[0mdownload_zip_and_extract\u001b[0m\u001b[1;33m(\u001b[0m\u001b[0mDATA_URL\u001b[0m\u001b[1;33m,\u001b[0m \u001b[0mdata_dest\u001b[0m\u001b[1;33m,\u001b[0m \u001b[1;34m\"data\"\u001b[0m\u001b[1;33m)\u001b[0m\u001b[1;33m\u001b[0m\u001b[1;33m\u001b[0m\u001b[0m\n\u001b[0m",
      "\u001b[1;32m~\\AppData\\Local\\Temp/ipykernel_18456/1977287099.py\u001b[0m in \u001b[0;36mdownload_zip_and_extract\u001b[1;34m(url, dest, new_dir_name)\u001b[0m\n\u001b[0;32m     13\u001b[0m   \u001b[0mdest_path\u001b[0m \u001b[1;33m=\u001b[0m \u001b[0mpath\u001b[0m\u001b[1;33m.\u001b[0m\u001b[0mjoin\u001b[0m\u001b[1;33m(\u001b[0m\u001b[0mpath\u001b[0m\u001b[1;33m.\u001b[0m\u001b[0mcurdir\u001b[0m\u001b[1;33m,\u001b[0m \u001b[0mdest\u001b[0m\u001b[1;33m)\u001b[0m\u001b[1;33m\u001b[0m\u001b[1;33m\u001b[0m\u001b[0m\n\u001b[0;32m     14\u001b[0m \u001b[1;33m\u001b[0m\u001b[0m\n\u001b[1;32m---> 15\u001b[1;33m   assert path.exists(path.join(dest_path, new_dir_name if new_dir_name else file_name)\n\u001b[0m\u001b[0;32m     16\u001b[0m                      ) == False, \"Destination folder already exists\"\n\u001b[0;32m     17\u001b[0m \u001b[1;33m\u001b[0m\u001b[0m\n",
      "\u001b[1;31mAssertionError\u001b[0m: Destination folder already exists"
     ]
    }
   ],
   "source": [
    "DATA_URL = \"https://download.pytorch.org/tutorial/hymenoptera_data.zip\"\n",
    "data_dest = \".\"\n",
    "download_zip_and_extract(DATA_URL, data_dest, \"data\")"
   ]
  },
  {
   "cell_type": "code",
   "execution_count": null,
   "metadata": {},
   "outputs": [],
   "source": []
  }
 ],
 "metadata": {
  "kernelspec": {
   "display_name": "Python 3.9.6 ('fastapi-ml')",
   "language": "python",
   "name": "python3"
  },
  "language_info": {
   "codemirror_mode": {
    "name": "ipython",
    "version": 3
   },
   "file_extension": ".py",
   "mimetype": "text/x-python",
   "name": "python",
   "nbconvert_exporter": "python",
   "pygments_lexer": "ipython3",
   "version": "3.9.6"
  },
  "orig_nbformat": 4,
  "vscode": {
   "interpreter": {
    "hash": "a72f2fb76a61cd37ad6891cc8d4df39cb21bbe70362a60424286c2696b35476d"
   }
  }
 },
 "nbformat": 4,
 "nbformat_minor": 2
}
